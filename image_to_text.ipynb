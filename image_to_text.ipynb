{
  "nbformat": 4,
  "nbformat_minor": 0,
  "metadata": {
    "colab": {
      "provenance": []
    },
    "kernelspec": {
      "name": "python3",
      "display_name": "Python 3"
    },
    "language_info": {
      "name": "python"
    }
  },
  "cells": [
    {
      "cell_type": "code",
      "execution_count": null,
      "metadata": {
        "id": "1ooue0RytzqM"
      },
      "outputs": [],
      "source": [
        "import cv2\n",
        "import numpy as np\n",
        "import os\n",
        "\n",
        "# Define the paths to your image folders\n",
        "folder1_path = \"imgs1/benign\"\n",
        "folder2_path = \"imgs1/malignant\"\n",
        "folder3_path = \"imgs1/normal\"\n",
        "\n",
        "# Define the path to your output text file\n",
        "output_file_path = \"imgs1/output.txt\"\n",
        "\n",
        "# Define the size of your images\n",
        "# image_size = (60, 50)  # Replace with the actual size of your images\n",
        "image_size = (180, 150)\n",
        "# Define a helper function to convert an image to a comma-separated string\n",
        "def image_to_string(image):\n",
        "    image_data = np.asarray(image).flatten().tolist()\n",
        "    return \",\".join(str(float(pixel)) for pixel in image_data)\n",
        "\n",
        "# Open the output file for writing\n",
        "with open(output_file_path, 'w') as f:\n",
        "    f.write(\"1\\n\")\n",
        "    f.write(\"3\\n\")\n",
        "    classes=\"\"\n",
        "    # Iterate through each folder and its subdirectories\n",
        "    folderpaths= [folder1_path, folder2_path, folder3_path]\n",
        "    for i in range(3):\n",
        "        folder_path=folderpaths[i]\n",
        "        for dirpath, dirnames, filenames in os.walk(folder_path):\n",
        "            \n",
        "            # Iterate through each image file in the current directory\n",
        "            for filename in filenames:\n",
        "                classes+=str(i)+\",\"\n",
        "                if filename.endswith('.jpg') or filename.endswith('.png'):\n",
        "\n",
        "                    # Get the label of the current image from its parent directory name\n",
        "                    label = os.path.basename(dirpath)\n",
        "\n",
        "                    # Load the image and resize it to the desired size\n",
        "                    image_path = os.path.join(dirpath, filename)\n",
        "                    image = cv2.imread(image_path, cv2.IMREAD_GRAYSCALE)\n",
        "                    image = cv2.resize(image, image_size)\n",
        "\n",
        "                    # Convert the image to a comma-separated string and write to the output file\n",
        "                    image_string = image_to_string(image)\n",
        "                    f.write(image_string+\"\\n\")\n",
        "        classes=classes[0:-1]\n",
        "        f.write(classes)\n"
      ]
    }
  ]
}